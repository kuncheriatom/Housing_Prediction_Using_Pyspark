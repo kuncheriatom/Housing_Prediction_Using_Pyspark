{
 "cells": [
  {
   "cell_type": "code",
   "execution_count": 1,
   "metadata": {},
   "outputs": [
    {
     "name": "stdout",
     "output_type": "stream",
     "text": [
      "+----------------------+\n",
      "|default_interpretation|\n",
      "+----------------------+\n",
      "|  Not Likely to Def...|\n",
      "+----------------------+\n",
      "\n"
     ]
    }
   ],
   "source": [
    "from pyspark.sql import SparkSession\n",
    "from pyspark.ml.feature import VectorAssembler\n",
    "from pyspark.ml.classification import RandomForestClassificationModel\n",
    "from pyspark.sql import Row\n",
    "from pyspark.sql.functions import col, when\n",
    "\n",
    "# Initialize Spark session\n",
    "spark = SparkSession.builder \\\n",
    "    .appName(\"HouseLoanPrediction\") \\\n",
    "    .getOrCreate()\n",
    "\n",
    "# Path to the saved RandomForest model\n",
    "rf_classifier_path = r\"E:\\Class\\sem3\\big data framework\\Project\\rf_model\"\n",
    "\n",
    "# Load the RandomForest model\n",
    "rf_classifier = RandomForestClassificationModel.load(rf_classifier_path)\n",
    "\n",
    "# Manually provided values\n",
    "manual_data = [\n",
    "    Row(BASEMENTAREA_MODE=0.1, NONLIVINGAREA_AVG=50.0, APARTMENTS_MODE=2.0,\n",
    "        LIVE_REGION_NOT_WORK_REGION=1.0, CODE_GENDER_index=0.0,\n",
    "        REGION_POPULATION_RELATIVE=0.01, FLAG_DOCUMENT_17=0.0, ELEVATORS_AVG=1.0,\n",
    "        AMT_GOODS_PRICE=300000000000.0, EXT_SOURCE_2=0.5)\n",
    "]\n",
    "\n",
    "# Convert the manually provided values to a DataFrame\n",
    "manual_data_df = spark.createDataFrame(manual_data)\n",
    "\n",
    "# Define the VectorAssembler with the appropriate input and output column names\n",
    "vector_assembler = VectorAssembler(\n",
    "    inputCols=[\"BASEMENTAREA_MODE\", \"NONLIVINGAREA_AVG\", \"APARTMENTS_MODE\",\n",
    "               \"LIVE_REGION_NOT_WORK_REGION\", \"CODE_GENDER_index\",\n",
    "               \"REGION_POPULATION_RELATIVE\", \"FLAG_DOCUMENT_17\", \"ELEVATORS_AVG\",\n",
    "               \"AMT_GOODS_PRICE\", \"EXT_SOURCE_2\"],\n",
    "    outputCol=\"features\"\n",
    ")\n",
    "\n",
    "# Transform the data to create feature vectors\n",
    "assembled_data = vector_assembler.transform(manual_data_df)\n",
    "\n",
    "# Rename the 'features' column to 'top_features' to match the model's expectation\n",
    "final_data = assembled_data.withColumnRenamed(\"features\", \"top_features\")\n",
    "\n",
    "# Apply the RandomForest model to make predictions\n",
    "manual_predictions = rf_classifier.transform(final_data)\n",
    "\n",
    "# Add an interpretation column based on the prediction\n",
    "manual_predictions_interpreted = manual_predictions.withColumn(\n",
    "    \"default_interpretation\",\n",
    "    when(col(\"prediction\") >= 0.5, \"Likely to Default\").otherwise(\"Not Likely to Default\")\n",
    ")\n",
    "\n",
    "# Select columns to display the interpretation\n",
    "manual_predictions_selected = manual_predictions_interpreted.select(\"default_interpretation\")\n",
    "\n",
    "# Show the interpretation results\n",
    "manual_predictions_selected.show()\n",
    "\n",
    "# Stop Spark session\n",
    "spark.stop()\n"
   ]
  }
 ],
 "metadata": {
  "kernelspec": {
   "display_name": "venv",
   "language": "python",
   "name": "python3"
  },
  "language_info": {
   "codemirror_mode": {
    "name": "ipython",
    "version": 3
   },
   "file_extension": ".py",
   "mimetype": "text/x-python",
   "name": "python",
   "nbconvert_exporter": "python",
   "pygments_lexer": "ipython3",
   "version": "3.11.9"
  }
 },
 "nbformat": 4,
 "nbformat_minor": 2
}
